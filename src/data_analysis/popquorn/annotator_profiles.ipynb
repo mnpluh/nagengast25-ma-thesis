{
 "cells": [
  {
   "cell_type": "markdown",
   "metadata": {},
   "source": [
    "### <strong>POPQUORN</strong>\n",
    "<strong>Po</strong>tato-<strong>P</strong>rolific dataset for <strong>Qu</strong>estion-Answering, <strong>O</strong>ffensiveness, text <strong>R</strong>ewriting and politeness rating with demographic <strong>N</strong>uance\n",
    "\n",
    "[Source](https://github.com/Jiaxin-Pei/potato-prolific-dataset)\n",
    "___"
   ]
  },
  {
   "cell_type": "code",
   "execution_count": 1,
   "metadata": {},
   "outputs": [],
   "source": [
    "from IPython.display import display, HTML\n",
    "import matplotlib.colors as mcolors\n",
    "import matplotlib.pyplot as plt\n",
    "import krippendorff\n",
    "import pandas as pd\n",
    "import numpy as np\n",
    "import copy\n",
    "import json\n",
    "import os\n",
    "\n",
    "%matplotlib inline"
   ]
  },
  {
   "cell_type": "code",
   "execution_count": 2,
   "metadata": {},
   "outputs": [],
   "source": [
    "path_to_dirs = '../../../data/Potato-Prolific-Dataset/dataset'\n",
    "file_name = 'raw_data.csv'"
   ]
  },
  {
   "cell_type": "code",
   "execution_count": 3,
   "metadata": {},
   "outputs": [],
   "source": [
    "# Group age ranges into three stages of adulthood as described in https://pubmed.ncbi.nlm.nih.gov/7203662/\n",
    "stages_of_adulthood = {\n",
    "    '18-24': 'Early adulthood',\n",
    "    '25-29': 'Early adulthood',\n",
    "    '30-34': 'Early adulthood',\n",
    "    '35-39': 'Middle adulthood',\n",
    "    '40-44': 'Middle adulthood',\n",
    "    '45-49': 'Middle adulthood',\n",
    "    '50-54': 'Middle adulthood',\n",
    "    '54-59': 'Middle adulthood',\n",
    "    '60-64': 'Middle adulthood',\n",
    "    '>65': 'Late adulthood'\n",
    "}"
   ]
  },
  {
   "cell_type": "code",
   "execution_count": 4,
   "metadata": {},
   "outputs": [],
   "source": [
    "tasks = ['offensiveness', 'question_answering', 'email_rewriting', 'politeness_rating']\n",
    "\n",
    "for task in tasks:\n",
    "\n",
    "    path_to_data = f'{path_to_dirs}/{task}/{file_name}'\n",
    "    df = pd.read_csv(path_to_data)\n",
    "    df_profiles = df.drop_duplicates('user_id')\n",
    "\n",
    "    # Treat 'Graduate degree' the same as 'College degree'\n",
    "    df_profiles.loc[:, 'education'] = df_profiles['education'].replace({'Graduate degree': 'College degree'})\n",
    "    # Group age ranges into three stages of adulthood 'Early', 'Middle' and 'Late'\n",
    "    df_profiles.loc[:, 'age'] = df_profiles['age'].replace(stages_of_adulthood)\n",
    "\n",
    "    profile_counts = df_profiles.groupby(['gender', 'race', 'age', 'education'], dropna=False).size().reset_index(name='count')\n",
    "\n",
    "    profile_counts = profile_counts.sort_values(by=['race', 'count'], ascending=[True, False])\n",
    "\n",
    "    top_profiles_per_race = profile_counts.groupby('race').head(5)\n",
    "    # display(top_profiles_per_race)\n",
    "\n",
    "    top_profiles_per_race.to_csv(f'extracted_profiles/{task}_profiles.csv', index=False)"
   ]
  },
  {
   "cell_type": "code",
   "execution_count": null,
   "metadata": {},
   "outputs": [],
   "source": []
  }
 ],
 "metadata": {
  "kernelspec": {
   "display_name": "Python 3 (ipykernel)",
   "language": "python",
   "name": "python3"
  },
  "language_info": {
   "codemirror_mode": {
    "name": "ipython",
    "version": 3
   },
   "file_extension": ".py",
   "mimetype": "text/x-python",
   "name": "python",
   "nbconvert_exporter": "python",
   "pygments_lexer": "ipython3",
   "version": "3.10.8"
  }
 },
 "nbformat": 4,
 "nbformat_minor": 4
}
