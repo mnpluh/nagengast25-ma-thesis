{
 "cells": [
  {
   "cell_type": "code",
   "execution_count": 1,
   "id": "d0802475-5a94-42c8-88f2-db87d2b2b8bb",
   "metadata": {},
   "outputs": [
    {
     "name": "stderr",
     "output_type": "stream",
     "text": [
      "/bigwork/nhwpnagm/.conda/envs/env3/lib/python3.10/site-packages/tqdm/auto.py:21: TqdmWarning: IProgress not found. Please update jupyter and ipywidgets. See https://ipywidgets.readthedocs.io/en/stable/user_install.html\n",
      "  from .autonotebook import tqdm as notebook_tqdm\n"
     ]
    }
   ],
   "source": [
    "from transformers import AutoTokenizer, AutoModelForSequenceClassification, TrainingArguments, Trainer, DataCollatorWithPadding, EarlyStoppingCallback\n",
    "from sklearn.metrics import f1_score, accuracy_score\n",
    "from sklearn.model_selection import train_test_split\n",
    "from sklearn.utils import resample\n",
    "from datasets import Dataset\n",
    "from datasets.dataset_dict import DatasetDict\n",
    "from peft import LoraConfig, get_peft_model, prepare_model_for_kbit_training\n",
    "from tqdm import tqdm\n",
    "import pandas as pd\n",
    "import numpy as np\n",
    "import torch\n",
    "import copy\n",
    "import json\n",
    "import os\n",
    "\n",
    "%matplotlib inline "
   ]
  },
  {
   "cell_type": "code",
   "execution_count": 2,
   "id": "b371ab4e-81f9-4ef4-9bf4-a2fa0db47aa9",
   "metadata": {
    "tags": []
   },
   "outputs": [
    {
     "data": {
      "text/plain": [
       "1"
      ]
     },
     "execution_count": 2,
     "metadata": {},
     "output_type": "execute_result"
    }
   ],
   "source": [
    "torch.cuda.device_count()"
   ]
  },
  {
   "cell_type": "markdown",
   "id": "7f0e385e-b67d-4094-b83c-db2e9ff49de1",
   "metadata": {},
   "source": [
    "### **1.** Offensiveness rating"
   ]
  },
  {
   "cell_type": "markdown",
   "id": "4ddaf6c7-f797-45d8-9da5-4c829f76206d",
   "metadata": {},
   "source": [
    "**Load data and profiles**"
   ]
  },
  {
   "cell_type": "code",
   "execution_count": 3,
   "id": "5fb6139e-298d-46e3-93e3-9a7feb16ad9c",
   "metadata": {},
   "outputs": [
    {
     "data": {
      "text/html": [
       "<div>\n",
       "<style scoped>\n",
       "    .dataframe tbody tr th:only-of-type {\n",
       "        vertical-align: middle;\n",
       "    }\n",
       "\n",
       "    .dataframe tbody tr th {\n",
       "        vertical-align: top;\n",
       "    }\n",
       "\n",
       "    .dataframe thead th {\n",
       "        text-align: right;\n",
       "    }\n",
       "</style>\n",
       "<table border=\"1\" class=\"dataframe\">\n",
       "  <thead>\n",
       "    <tr style=\"text-align: right;\">\n",
       "      <th></th>\n",
       "      <th>instance_id</th>\n",
       "      <th>user_id</th>\n",
       "      <th>text</th>\n",
       "      <th>offensiveness</th>\n",
       "      <th>gender</th>\n",
       "      <th>race</th>\n",
       "      <th>age</th>\n",
       "      <th>occupation</th>\n",
       "      <th>education</th>\n",
       "    </tr>\n",
       "  </thead>\n",
       "  <tbody>\n",
       "    <tr>\n",
       "      <th>0</th>\n",
       "      <td>530</td>\n",
       "      <td>0</td>\n",
       "      <td>I think a lot of Dethklok songs use drop C, wo...</td>\n",
       "      <td>1.0</td>\n",
       "      <td>Man</td>\n",
       "      <td>White</td>\n",
       "      <td>35-39</td>\n",
       "      <td>Unemployed</td>\n",
       "      <td>High school diploma or equivalent</td>\n",
       "    </tr>\n",
       "    <tr>\n",
       "      <th>1</th>\n",
       "      <td>1280</td>\n",
       "      <td>0</td>\n",
       "      <td>There are relatively simple ways around all of...</td>\n",
       "      <td>1.0</td>\n",
       "      <td>Man</td>\n",
       "      <td>White</td>\n",
       "      <td>35-39</td>\n",
       "      <td>Unemployed</td>\n",
       "      <td>High school diploma or equivalent</td>\n",
       "    </tr>\n",
       "    <tr>\n",
       "      <th>2</th>\n",
       "      <td>621</td>\n",
       "      <td>0</td>\n",
       "      <td>Tell the british soldier in WW1 to shoot that ...</td>\n",
       "      <td>1.0</td>\n",
       "      <td>Man</td>\n",
       "      <td>White</td>\n",
       "      <td>35-39</td>\n",
       "      <td>Unemployed</td>\n",
       "      <td>High school diploma or equivalent</td>\n",
       "    </tr>\n",
       "    <tr>\n",
       "      <th>3</th>\n",
       "      <td>676</td>\n",
       "      <td>0</td>\n",
       "      <td>Top comment pretty much. I have gay friends an...</td>\n",
       "      <td>1.0</td>\n",
       "      <td>Man</td>\n",
       "      <td>White</td>\n",
       "      <td>35-39</td>\n",
       "      <td>Unemployed</td>\n",
       "      <td>High school diploma or equivalent</td>\n",
       "    </tr>\n",
       "    <tr>\n",
       "      <th>4</th>\n",
       "      <td>635</td>\n",
       "      <td>0</td>\n",
       "      <td>Don't tell them just let them and their liniag...</td>\n",
       "      <td>3.0</td>\n",
       "      <td>Man</td>\n",
       "      <td>White</td>\n",
       "      <td>35-39</td>\n",
       "      <td>Unemployed</td>\n",
       "      <td>High school diploma or equivalent</td>\n",
       "    </tr>\n",
       "    <tr>\n",
       "      <th>...</th>\n",
       "      <td>...</td>\n",
       "      <td>...</td>\n",
       "      <td>...</td>\n",
       "      <td>...</td>\n",
       "      <td>...</td>\n",
       "      <td>...</td>\n",
       "      <td>...</td>\n",
       "      <td>...</td>\n",
       "      <td>...</td>\n",
       "    </tr>\n",
       "    <tr>\n",
       "      <th>13031</th>\n",
       "      <td>471</td>\n",
       "      <td>262</td>\n",
       "      <td>They’re closed anti-vaxx Facebook groups. When...</td>\n",
       "      <td>1.0</td>\n",
       "      <td>Woman</td>\n",
       "      <td>Asian</td>\n",
       "      <td>54-59</td>\n",
       "      <td>Self-employed</td>\n",
       "      <td>College degree</td>\n",
       "    </tr>\n",
       "    <tr>\n",
       "      <th>13032</th>\n",
       "      <td>1033</td>\n",
       "      <td>262</td>\n",
       "      <td>Bioethics; an interesting field in which the w...</td>\n",
       "      <td>1.0</td>\n",
       "      <td>Woman</td>\n",
       "      <td>Asian</td>\n",
       "      <td>54-59</td>\n",
       "      <td>Self-employed</td>\n",
       "      <td>College degree</td>\n",
       "    </tr>\n",
       "    <tr>\n",
       "      <th>13033</th>\n",
       "      <td>740</td>\n",
       "      <td>262</td>\n",
       "      <td>Or they are really secure but hang around inse...</td>\n",
       "      <td>5.0</td>\n",
       "      <td>Woman</td>\n",
       "      <td>Asian</td>\n",
       "      <td>54-59</td>\n",
       "      <td>Self-employed</td>\n",
       "      <td>College degree</td>\n",
       "    </tr>\n",
       "    <tr>\n",
       "      <th>13034</th>\n",
       "      <td>894</td>\n",
       "      <td>262</td>\n",
       "      <td>Don't have to worry about being too big to fit...</td>\n",
       "      <td>4.0</td>\n",
       "      <td>Woman</td>\n",
       "      <td>Asian</td>\n",
       "      <td>54-59</td>\n",
       "      <td>Self-employed</td>\n",
       "      <td>College degree</td>\n",
       "    </tr>\n",
       "    <tr>\n",
       "      <th>13035</th>\n",
       "      <td>596</td>\n",
       "      <td>262</td>\n",
       "      <td>Totally agree with this sentiment. I’m fully i...</td>\n",
       "      <td>1.0</td>\n",
       "      <td>Woman</td>\n",
       "      <td>Asian</td>\n",
       "      <td>54-59</td>\n",
       "      <td>Self-employed</td>\n",
       "      <td>College degree</td>\n",
       "    </tr>\n",
       "  </tbody>\n",
       "</table>\n",
       "<p>13036 rows × 9 columns</p>\n",
       "</div>"
      ],
      "text/plain": [
       "       instance_id  user_id  \\\n",
       "0              530        0   \n",
       "1             1280        0   \n",
       "2              621        0   \n",
       "3              676        0   \n",
       "4              635        0   \n",
       "...            ...      ...   \n",
       "13031          471      262   \n",
       "13032         1033      262   \n",
       "13033          740      262   \n",
       "13034          894      262   \n",
       "13035          596      262   \n",
       "\n",
       "                                                    text  offensiveness  \\\n",
       "0      I think a lot of Dethklok songs use drop C, wo...            1.0   \n",
       "1      There are relatively simple ways around all of...            1.0   \n",
       "2      Tell the british soldier in WW1 to shoot that ...            1.0   \n",
       "3      Top comment pretty much. I have gay friends an...            1.0   \n",
       "4      Don't tell them just let them and their liniag...            3.0   \n",
       "...                                                  ...            ...   \n",
       "13031  They’re closed anti-vaxx Facebook groups. When...            1.0   \n",
       "13032  Bioethics; an interesting field in which the w...            1.0   \n",
       "13033  Or they are really secure but hang around inse...            5.0   \n",
       "13034  Don't have to worry about being too big to fit...            4.0   \n",
       "13035  Totally agree with this sentiment. I’m fully i...            1.0   \n",
       "\n",
       "      gender   race    age     occupation                          education  \n",
       "0        Man  White  35-39     Unemployed  High school diploma or equivalent  \n",
       "1        Man  White  35-39     Unemployed  High school diploma or equivalent  \n",
       "2        Man  White  35-39     Unemployed  High school diploma or equivalent  \n",
       "3        Man  White  35-39     Unemployed  High school diploma or equivalent  \n",
       "4        Man  White  35-39     Unemployed  High school diploma or equivalent  \n",
       "...      ...    ...    ...            ...                                ...  \n",
       "13031  Woman  Asian  54-59  Self-employed                     College degree  \n",
       "13032  Woman  Asian  54-59  Self-employed                     College degree  \n",
       "13033  Woman  Asian  54-59  Self-employed                     College degree  \n",
       "13034  Woman  Asian  54-59  Self-employed                     College degree  \n",
       "13035  Woman  Asian  54-59  Self-employed                     College degree  \n",
       "\n",
       "[13036 rows x 9 columns]"
      ]
     },
     "execution_count": 3,
     "metadata": {},
     "output_type": "execute_result"
    }
   ],
   "source": [
    "path_to_data_dirs = '../../../data/Potato-Prolific-Dataset/dataset'\n",
    "data_file_name = 'raw_data.csv'\n",
    "task = 'offensiveness'\n",
    "\n",
    "path_to_data = f'{path_to_data_dirs}/{task}/{data_file_name}'\n",
    "df_data = pd.read_csv(path_to_data)\n",
    "df_data"
   ]
  },
  {
   "cell_type": "code",
   "execution_count": 4,
   "id": "e9398101-68df-4ee1-9cd1-e075607eb6e5",
   "metadata": {},
   "outputs": [],
   "source": [
    "path_to_profiles_files = '../../data_analysis/popquorn/extracted_profiles'\n",
    "profiles_file_name = 'offensiveness_profiles.csv'\n",
    "\n",
    "path_to_profiles = f'{path_to_profiles_files}/{profiles_file_name}'\n",
    "df_profiles = pd.read_csv(path_to_profiles)"
   ]
  },
  {
   "cell_type": "code",
   "execution_count": 5,
   "id": "f8296522-f9f1-4ac1-9144-26536fa2c067",
   "metadata": {
    "tags": []
   },
   "outputs": [],
   "source": [
    "stages_of_adulthood = {\n",
    "    '18-24': 'Early adulthood',\n",
    "    '25-29': 'Early adulthood',\n",
    "    '30-34': 'Early adulthood',\n",
    "    '35-39': 'Middle adulthood',\n",
    "    '40-44': 'Middle adulthood',\n",
    "    '45-49': 'Middle adulthood',\n",
    "    '50-54': 'Middle adulthood',\n",
    "    '54-59': 'Middle adulthood',\n",
    "    '60-64': 'Middle adulthood',\n",
    "    '>65': 'Late adulthood'\n",
    "}"
   ]
  },
  {
   "cell_type": "code",
   "execution_count": 6,
   "id": "00ce6db3-129a-4f71-82e8-5c16a67d5d1e",
   "metadata": {},
   "outputs": [],
   "source": [
    "def select_profile(idx:int):\n",
    "    return df_profiles.iloc[20].iloc[:-1]\n",
    "\n",
    "def print_profile(profile:pd.Series):\n",
    "    width = len(profile.to_string().split('\\n')[0])\n",
    "    print(f\"{'='*width}\\n{profile.to_string()}\\n{'='*width}\") "
   ]
  },
  {
   "cell_type": "markdown",
   "id": "355231a1-bbe8-4479-a9c9-c4fed0c0cb2b",
   "metadata": {},
   "source": [
    "**Extract POPQUORN annotation data fitting specific annotator profile**\n",
    "\n",
    "*Choose a profile by index*"
   ]
  },
  {
   "cell_type": "code",
   "execution_count": 7,
   "id": "b1dec54f-47de-4752-9869-e000d12f9376",
   "metadata": {},
   "outputs": [
    {
     "name": "stdout",
     "output_type": "stream",
     "text": [
      "=============================\n",
      "gender                  Woman\n",
      "race                    White\n",
      "age          Middle adulthood\n",
      "education      College degree\n",
      "=============================\n"
     ]
    }
   ],
   "source": [
    "profile = select_profile(idx=20)\n",
    "print_profile(profile)"
   ]
  },
  {
   "cell_type": "markdown",
   "id": "0fbfe520-d962-42fe-b5b9-fe9219330f60",
   "metadata": {},
   "source": [
    "*Extract instances given by annotators that fit the profile*"
   ]
  },
  {
   "cell_type": "code",
   "execution_count": 8,
   "id": "6b181a00-a960-45bc-b3a4-4beb661a1d6a",
   "metadata": {},
   "outputs": [],
   "source": [
    "stage_of_adulthood = profile['age']\n",
    "ages = [k for k, v in stages_of_adulthood.items() if v == stage_of_adulthood]\n",
    "age_mapping = {stage_of_adulthood: ages}"
   ]
  },
  {
   "cell_type": "code",
   "execution_count": 9,
   "id": "0f77c86e-60f8-4717-8a1f-97a1bb4f9303",
   "metadata": {},
   "outputs": [],
   "source": [
    "conditions = []\n",
    "for attr in profile.index:\n",
    "    if attr == 'age':\n",
    "        conditions.append(df_data[attr].isin(age_mapping[profile[attr]]))\n",
    "    elif attr == 'education' and profile[attr] == 'College degree': \n",
    "        conditions.append(df_data[attr].isin(['College degree', 'Graduate degree']))\n",
    "    else:\n",
    "        conditions.append(df_data[attr] == profile[attr])\n",
    "\n",
    "df_filtered = df_data[pd.concat(conditions, axis=1).all(axis=1)]"
   ]
  },
  {
   "cell_type": "code",
   "execution_count": 10,
   "id": "7fe89497-37fe-4f56-af82-2a3ca70a0824",
   "metadata": {},
   "outputs": [
    {
     "data": {
      "text/html": [
       "<div>\n",
       "<style scoped>\n",
       "    .dataframe tbody tr th:only-of-type {\n",
       "        vertical-align: middle;\n",
       "    }\n",
       "\n",
       "    .dataframe tbody tr th {\n",
       "        vertical-align: top;\n",
       "    }\n",
       "\n",
       "    .dataframe thead th {\n",
       "        text-align: right;\n",
       "    }\n",
       "</style>\n",
       "<table border=\"1\" class=\"dataframe\">\n",
       "  <thead>\n",
       "    <tr style=\"text-align: right;\">\n",
       "      <th></th>\n",
       "      <th>instance_id</th>\n",
       "      <th>text</th>\n",
       "      <th>offensiveness</th>\n",
       "    </tr>\n",
       "  </thead>\n",
       "  <tbody>\n",
       "    <tr>\n",
       "      <th>0</th>\n",
       "      <td>0</td>\n",
       "      <td>That’s a pretty slippery slope you’ve got ther...</td>\n",
       "      <td>0</td>\n",
       "    </tr>\n",
       "    <tr>\n",
       "      <th>1</th>\n",
       "      <td>1</td>\n",
       "      <td>I don't know. Sitting here now answering this ...</td>\n",
       "      <td>0</td>\n",
       "    </tr>\n",
       "    <tr>\n",
       "      <th>2</th>\n",
       "      <td>2</td>\n",
       "      <td>Pretty much the same as when straight people p...</td>\n",
       "      <td>3</td>\n",
       "    </tr>\n",
       "    <tr>\n",
       "      <th>3</th>\n",
       "      <td>3</td>\n",
       "      <td>If you dont see it in your post, youre probabl...</td>\n",
       "      <td>3</td>\n",
       "    </tr>\n",
       "    <tr>\n",
       "      <th>4</th>\n",
       "      <td>4</td>\n",
       "      <td>You believe most priests are gay?</td>\n",
       "      <td>0</td>\n",
       "    </tr>\n",
       "    <tr>\n",
       "      <th>...</th>\n",
       "      <td>...</td>\n",
       "      <td>...</td>\n",
       "      <td>...</td>\n",
       "    </tr>\n",
       "    <tr>\n",
       "      <th>1180</th>\n",
       "      <td>1494</td>\n",
       "      <td>This behaviour is misleading and deceptive in ...</td>\n",
       "      <td>4</td>\n",
       "    </tr>\n",
       "    <tr>\n",
       "      <th>1181</th>\n",
       "      <td>1495</td>\n",
       "      <td>Offer myself as their slave and informant.</td>\n",
       "      <td>0</td>\n",
       "    </tr>\n",
       "    <tr>\n",
       "      <th>1182</th>\n",
       "      <td>1496</td>\n",
       "      <td>hey, they don't call it the devil's lettuce fo...</td>\n",
       "      <td>1</td>\n",
       "    </tr>\n",
       "    <tr>\n",
       "      <th>1183</th>\n",
       "      <td>1497</td>\n",
       "      <td>If you want to take away my rights because of ...</td>\n",
       "      <td>0</td>\n",
       "    </tr>\n",
       "    <tr>\n",
       "      <th>1184</th>\n",
       "      <td>1498</td>\n",
       "      <td>People Kill People. One Man Killed 17 People. ...</td>\n",
       "      <td>0</td>\n",
       "    </tr>\n",
       "  </tbody>\n",
       "</table>\n",
       "<p>1185 rows × 3 columns</p>\n",
       "</div>"
      ],
      "text/plain": [
       "      instance_id                                               text  \\\n",
       "0               0  That’s a pretty slippery slope you’ve got ther...   \n",
       "1               1  I don't know. Sitting here now answering this ...   \n",
       "2               2  Pretty much the same as when straight people p...   \n",
       "3               3  If you dont see it in your post, youre probabl...   \n",
       "4               4                  You believe most priests are gay?   \n",
       "...           ...                                                ...   \n",
       "1180         1494  This behaviour is misleading and deceptive in ...   \n",
       "1181         1495         Offer myself as their slave and informant.   \n",
       "1182         1496  hey, they don't call it the devil's lettuce fo...   \n",
       "1183         1497  If you want to take away my rights because of ...   \n",
       "1184         1498  People Kill People. One Man Killed 17 People. ...   \n",
       "\n",
       "      offensiveness  \n",
       "0                 0  \n",
       "1                 0  \n",
       "2                 3  \n",
       "3                 3  \n",
       "4                 0  \n",
       "...             ...  \n",
       "1180              4  \n",
       "1181              0  \n",
       "1182              1  \n",
       "1183              0  \n",
       "1184              0  \n",
       "\n",
       "[1185 rows x 3 columns]"
      ]
     },
     "execution_count": 10,
     "metadata": {},
     "output_type": "execute_result"
    }
   ],
   "source": [
    "df_data_profiled = df_filtered.groupby(['instance_id', 'text'], as_index=False)['offensiveness'].mean()\n",
    "\n",
    "# round the means to the nearest integer value, subtract 1 from all afterwards to avoid the following assertion error during training:\n",
    "# ../aten/src/ATen/native/cuda/Loss.cu:250: nll_loss_forward_reduce_cuda_kernel_2d: block: [0,0,0], thread: [0,0,0] Assertion `t >= 0 && t < n_classes` failed.\n",
    "df_data_profiled.offensiveness = df_data_profiled.offensiveness.round().astype(int).map(lambda offn: offn-1)\n",
    "df_data_profiled"
   ]
  },
  {
   "cell_type": "code",
   "execution_count": 16,
   "id": "1eab2dfb-be35-444a-8428-842ac05137e2",
   "metadata": {
    "tags": []
   },
   "outputs": [],
   "source": [
    "df_data_profiled.to_csv('profiled_data_sample.csv', index=False)"
   ]
  },
  {
   "cell_type": "markdown",
   "id": "575847e3-0920-46b7-ae2d-197f59cd1e16",
   "metadata": {},
   "source": [
    "**Prepare dataset**\n",
    "\n",
    "*Perform stratified train-eval split*"
   ]
  },
  {
   "cell_type": "code",
   "execution_count": 11,
   "id": "d5f0ae2b-fbaf-4503-b004-212841b15939",
   "metadata": {
    "tags": []
   },
   "outputs": [],
   "source": [
    "train_df, eval_df = train_test_split(df_data_profiled, test_size=0.15, stratify=df_data_profiled.offensiveness, random_state=0)"
   ]
  },
  {
   "cell_type": "code",
   "execution_count": 12,
   "id": "e8a1c759-eadb-4c66-8ba1-a367a60839d9",
   "metadata": {
    "tags": []
   },
   "outputs": [
    {
     "name": "stdout",
     "output_type": "stream",
     "text": [
      "{0: 'not offensive', 1: 'slightly offensive', 2: 'moderately offensive', 3: 'very offensive', 4: 'extremely offensive'}\n",
      "{'not offensive': 0, 'slightly offensive': 1, 'moderately offensive': 2, 'very offensive': 3, 'extremely offensive': 4}\n"
     ]
    }
   ],
   "source": [
    "id2label = {\n",
    "    0: 'not offensive',\n",
    "    1: 'slightly offensive',\n",
    "    2: 'moderately offensive',\n",
    "    3: 'very offensive',\n",
    "    4: 'extremely offensive'\n",
    "}\n",
    "\n",
    "label2id = {\n",
    "    'not offensive': 0,\n",
    "    'slightly offensive': 1,\n",
    "    'moderately offensive': 2,\n",
    "    'very offensive': 3,\n",
    "    'extremely offensive': 4\n",
    "}\n",
    "\n",
    "print(id2label)\n",
    "print(label2id)"
   ]
  },
  {
   "cell_type": "markdown",
   "id": "fbfb0031-fb1d-408b-81c5-e9ac66872aca",
   "metadata": {},
   "source": [
    "*Create dataset object, perform oversampling by duplication*"
   ]
  },
  {
   "cell_type": "code",
   "execution_count": 14,
   "id": "809b6d84-a945-4572-8319-0750930989d5",
   "metadata": {
    "tags": []
   },
   "outputs": [
    {
     "name": "stdout",
     "output_type": "stream",
     "text": [
      "train\n",
      "offensiveness\n",
      "0    506\n",
      "1    282\n",
      "2    109\n",
      "3     70\n",
      "4     40\n",
      "Name: count, dtype: int64\n",
      "offensiveness\n",
      "0    506\n",
      "1    282\n",
      "2    218\n",
      "3    140\n",
      "4     80\n",
      "Name: count, dtype: int64\n",
      "val\n",
      "offensiveness\n",
      "0    89\n",
      "1    50\n",
      "2    20\n",
      "3    12\n",
      "4     7\n",
      "Name: count, dtype: int64\n",
      "offensiveness\n",
      "0    89\n",
      "1    50\n",
      "2    40\n",
      "3    24\n",
      "4    14\n",
      "Name: count, dtype: int64\n"
     ]
    },
    {
     "data": {
      "text/plain": [
       "DatasetDict({\n",
       "    train: Dataset({\n",
       "        features: ['label', 'text'],\n",
       "        num_rows: 1007\n",
       "    })\n",
       "    val: Dataset({\n",
       "        features: ['label', 'text'],\n",
       "        num_rows: 178\n",
       "    })\n",
       "})"
      ]
     },
     "execution_count": 14,
     "metadata": {},
     "output_type": "execute_result"
    }
   ],
   "source": [
    "dataset_dict = {'train':None, 'val':None}\n",
    "\n",
    "for split, split_df in zip(dataset_dict.keys(), [train_df, eval_df]):\n",
    "    \n",
    "    majority_labels = split_df.offensiveness.value_counts().nlargest(2).index\n",
    "    # dataframe to duplicate the entries in\n",
    "    dupl_df = split_df[split_df.offensiveness != majority_labels[0]]\n",
    "    dupl_df = dupl_df[dupl_df.offensiveness != majority_labels[1]]\n",
    "    # upsampled dataframe\n",
    "    ups_df = pd.concat([split_df, dupl_df], ignore_index=True)\n",
    "    \n",
    "    print(split)\n",
    "    print(split_df.offensiveness.value_counts())\n",
    "    print(ups_df.offensiveness.value_counts())\n",
    "    \n",
    "    split_dict = {\n",
    "        'label': split_df.offensiveness.tolist(),\n",
    "        'text': split_df.text.tolist()\n",
    "    }\n",
    "    dataset_dict[split] = Dataset.from_dict(split_dict)\n",
    "    \n",
    "dataset = DatasetDict(dataset_dict)\n",
    "dataset"
   ]
  },
  {
   "cell_type": "code",
   "execution_count": 55,
   "id": "a4555011-fea2-4143-bedc-e31ea504d379",
   "metadata": {},
   "outputs": [
    {
     "name": "stderr",
     "output_type": "stream",
     "text": [
      "Loading checkpoint shards: 100%|██████████| 3/3 [08:49<00:00, 176.43s/it]\n",
      "Some weights of MistralForSequenceClassification were not initialized from the model checkpoint at /bigwork/nhwpnagm/hf_models//Mistral-7B-Instruct-v0.3 and are newly initialized: ['score.weight']\n",
      "You should probably TRAIN this model on a down-stream task to be able to use it for predictions and inference.\n"
     ]
    }
   ],
   "source": [
    "models_dir = '/bigwork/nhwpnagm/hf_models/'\n",
    "model_id = 'Mistral-7B-Instruct-v0.3'\n",
    "\n",
    "model = AutoModelForSequenceClassification.from_pretrained(f'{models_dir}/{model_id}', num_labels=len(id2label), id2label=id2label, label2id=label2id, device_map='auto')\n",
    "tokenizer = AutoTokenizer.from_pretrained(f'{models_dir}/{model_id}') # possibly set model_max_length (default 512)"
   ]
  },
  {
   "cell_type": "code",
   "execution_count": 60,
   "id": "fab50520-bbb1-42ed-bf56-d79350176204",
   "metadata": {
    "tags": []
   },
   "outputs": [],
   "source": [
    "peft_config = LoraConfig(\n",
    "    lora_alpha=32,\n",
    "    lora_dropout=0.05,\n",
    "    r=32,\n",
    "    bias='none',\n",
    "    task_type='SEQ_CLS'\n",
    ")\n",
    "# model.add_adapter(peft_config)"
   ]
  },
  {
   "cell_type": "code",
   "execution_count": 61,
   "id": "4654b29b-32b8-4b16-b186-bbb8ca3086e9",
   "metadata": {
    "tags": []
   },
   "outputs": [],
   "source": [
    "tokenizer.pad_token = tokenizer.eos_token\n",
    "model.config.pad_token_id = model.config.eos_token_id"
   ]
  },
  {
   "cell_type": "code",
   "execution_count": 62,
   "id": "02e19d6a-c5e3-4a55-a2f7-06e60735d24d",
   "metadata": {
    "tags": []
   },
   "outputs": [],
   "source": [
    "#model = prepare_model_for_kbit_training(model)\n",
    "model = get_peft_model(model, peft_config)"
   ]
  },
  {
   "cell_type": "code",
   "execution_count": 63,
   "id": "9de16bb1-b303-405a-8142-ce2656651535",
   "metadata": {
    "tags": []
   },
   "outputs": [
    {
     "name": "stdout",
     "output_type": "stream",
     "text": [
      "trainable params: 13,651,968 || all params: 7,127,478,272 || trainable%: 0.1915\n"
     ]
    }
   ],
   "source": [
    "model.print_trainable_parameters()"
   ]
  },
  {
   "cell_type": "code",
   "execution_count": 64,
   "id": "8a693100-2e6c-4f41-93bc-161123f64ae7",
   "metadata": {},
   "outputs": [
    {
     "name": "stderr",
     "output_type": "stream",
     "text": [
      "Map:   0%|          | 0/1007 [00:00<?, ? examples/s]Asking to truncate to max_length but no maximum length is provided and the model has no predefined maximum length. Default to no truncation.\n",
      "Map: 100%|██████████| 1007/1007 [00:02<00:00, 354.89 examples/s]\n",
      "Map: 100%|██████████| 178/178 [00:00<00:00, 12198.32 examples/s]\n"
     ]
    }
   ],
   "source": [
    "def preprocess_function(examples):\n",
    "    return tokenizer(examples['text'], padding=True, truncation=True, return_tensors='pt')#.to('cuda')\n",
    "\n",
    "tokenized_dataset = dataset.map(preprocess_function, batched=True)"
   ]
  },
  {
   "cell_type": "code",
   "execution_count": 65,
   "id": "9b772ee8-38bf-4c0a-879b-d4e7e6f4c76a",
   "metadata": {},
   "outputs": [],
   "source": [
    "data_collator = DataCollatorWithPadding(tokenizer=tokenizer)#, pad_to_multiple_of=8)"
   ]
  },
  {
   "cell_type": "code",
   "execution_count": 66,
   "id": "44c2a3ce-4b65-4079-99b9-f98d456b74ea",
   "metadata": {},
   "outputs": [],
   "source": [
    "def compute_metrics(eval_pred):\n",
    "    predictions, labels = eval_pred\n",
    "    predictions = np.argmax(predictions, axis=1)\n",
    "\n",
    "    # f1_weighted = f1_score(labels, predictions, average = 'weighted')\n",
    "    acc = accuracy_score(labels, predictions)\n",
    "    return {'acc': acc}"
   ]
  },
  {
   "cell_type": "code",
   "execution_count": 67,
   "id": "9a1d3549-8984-48f8-a7c0-d7e40eb1d493",
   "metadata": {},
   "outputs": [
    {
     "name": "stderr",
     "output_type": "stream",
     "text": [
      "/tmp/ipykernel_131903/4027057180.py:25: FutureWarning: `tokenizer` is deprecated and will be removed in version 5.0.0 for `Trainer.__init__`. Use `processing_class` instead.\n",
      "  trainer = Trainer(\n"
     ]
    }
   ],
   "source": [
    "training_args = TrainingArguments(\n",
    "    output_dir=f'{models_dir}/{model_id}_seq_cls', # checkpoints location\n",
    "    learning_rate=2e-5,\n",
    "    per_device_train_batch_size=4,\n",
    "    per_device_eval_batch_size=4,\n",
    "    num_train_epochs=2,\n",
    "    eval_strategy='steps',\n",
    "    eval_steps=100,\n",
    "    logging_steps=100,\n",
    "    save_steps=200,\n",
    "    save_strategy='steps',\n",
    "    load_best_model_at_end=True,\n",
    "    metric_for_best_model='acc',\n",
    "    save_total_limit=1,\n",
    "    warmup_steps=50,\n",
    "    report_to='none',\n",
    "    lr_scheduler_type='cosine'\n",
    ")\n",
    "\n",
    "early_stopping = EarlyStoppingCallback(\n",
    "    early_stopping_patience=3,\n",
    "    early_stopping_threshold=0.01 # small improvement to reset patience\n",
    ")\n",
    "\n",
    "trainer = Trainer(\n",
    "    model=model,\n",
    "    args=training_args,\n",
    "    train_dataset=tokenized_dataset['train'],\n",
    "    eval_dataset=tokenized_dataset['val'],\n",
    "    tokenizer=tokenizer,\n",
    "    data_collator=data_collator,\n",
    "    compute_metrics=compute_metrics,\n",
    "    callbacks = [early_stopping]\n",
    ")"
   ]
  },
  {
   "cell_type": "code",
   "execution_count": 68,
   "id": "4ad3755b-53d7-4e7c-a0be-2e93ac5e2d04",
   "metadata": {
    "tags": []
   },
   "outputs": [],
   "source": [
    "torch.cuda.empty_cache()"
   ]
  },
  {
   "cell_type": "code",
   "execution_count": 69,
   "id": "1fb0973d-d6c8-42b6-96bd-e36fc0161eb3",
   "metadata": {},
   "outputs": [
    {
     "data": {
      "text/html": [
       "\n",
       "    <div>\n",
       "      \n",
       "      <progress value='504' max='504' style='width:300px; height:20px; vertical-align: middle;'></progress>\n",
       "      [504/504 10:39, Epoch 2/2]\n",
       "    </div>\n",
       "    <table border=\"1\" class=\"dataframe\">\n",
       "  <thead>\n",
       " <tr style=\"text-align: left;\">\n",
       "      <th>Step</th>\n",
       "      <th>Training Loss</th>\n",
       "      <th>Validation Loss</th>\n",
       "      <th>Acc</th>\n",
       "    </tr>\n",
       "  </thead>\n",
       "  <tbody>\n",
       "    <tr>\n",
       "      <td>100</td>\n",
       "      <td>4.445000</td>\n",
       "      <td>1.567787</td>\n",
       "      <td>0.488764</td>\n",
       "    </tr>\n",
       "    <tr>\n",
       "      <td>200</td>\n",
       "      <td>1.441900</td>\n",
       "      <td>1.341872</td>\n",
       "      <td>0.426966</td>\n",
       "    </tr>\n",
       "    <tr>\n",
       "      <td>300</td>\n",
       "      <td>1.397900</td>\n",
       "      <td>1.308064</td>\n",
       "      <td>0.432584</td>\n",
       "    </tr>\n",
       "    <tr>\n",
       "      <td>400</td>\n",
       "      <td>1.248600</td>\n",
       "      <td>1.282445</td>\n",
       "      <td>0.477528</td>\n",
       "    </tr>\n",
       "    <tr>\n",
       "      <td>500</td>\n",
       "      <td>1.085200</td>\n",
       "      <td>1.283193</td>\n",
       "      <td>0.477528</td>\n",
       "    </tr>\n",
       "  </tbody>\n",
       "</table><p>"
      ],
      "text/plain": [
       "<IPython.core.display.HTML object>"
      ]
     },
     "metadata": {},
     "output_type": "display_data"
    },
    {
     "data": {
      "text/plain": [
       "TrainOutput(global_step=504, training_loss=1.9191467374090165, metrics={'train_runtime': 640.9579, 'train_samples_per_second': 3.142, 'train_steps_per_second': 0.786, 'total_flos': 1.2337957820399616e+16, 'train_loss': 1.9191467374090165, 'epoch': 2.0})"
      ]
     },
     "execution_count": 69,
     "metadata": {},
     "output_type": "execute_result"
    }
   ],
   "source": [
    "trainer.train()"
   ]
  },
  {
   "cell_type": "code",
   "execution_count": null,
   "id": "ece5d80a-8340-4abe-a650-ec8db5bd10e6",
   "metadata": {},
   "outputs": [],
   "source": [
    "trainer.save_model(models_dir)"
   ]
  }
 ],
 "metadata": {
  "kernelspec": {
   "display_name": "env3",
   "language": "python",
   "name": "env3"
  },
  "language_info": {
   "codemirror_mode": {
    "name": "ipython",
    "version": 3
   },
   "file_extension": ".py",
   "mimetype": "text/x-python",
   "name": "python",
   "nbconvert_exporter": "python",
   "pygments_lexer": "ipython3",
   "version": "3.10.15"
  }
 },
 "nbformat": 4,
 "nbformat_minor": 5
}
