{
 "cells": [
  {
   "cell_type": "code",
   "execution_count": 1,
   "id": "501a50ca-f0e1-4bd5-9fd8-8f18ed83f8da",
   "metadata": {
    "tags": []
   },
   "outputs": [
    {
     "name": "stderr",
     "output_type": "stream",
     "text": [
      "/bigwork/nhwpnagm/.conda/envs/env3/lib/python3.10/site-packages/tqdm/auto.py:21: TqdmWarning: IProgress not found. Please update jupyter and ipywidgets. See https://ipywidgets.readthedocs.io/en/stable/user_install.html\n",
      "  from .autonotebook import tqdm as notebook_tqdm\n"
     ]
    }
   ],
   "source": [
    "from transformers import AutoTokenizer, AutoModelForCausalLM\n",
    "from IPython.display import display\n",
    "from tqdm import tqdm\n",
    "import pandas as pd\n",
    "import string\n",
    "import torch\n",
    "import json\n",
    "import re"
   ]
  },
  {
   "cell_type": "markdown",
   "id": "bb5dd756-868b-411e-8032-395746cfa82b",
   "metadata": {},
   "source": [
    "**Load model and data**"
   ]
  },
  {
   "cell_type": "code",
   "execution_count": 2,
   "id": "bd759c91-115c-4256-a464-285f812c7022",
   "metadata": {
    "tags": []
   },
   "outputs": [
    {
     "name": "stderr",
     "output_type": "stream",
     "text": [
      "Loading checkpoint shards: 100%|██████████| 3/3 [08:48<00:00, 176.06s/it]\n"
     ]
    }
   ],
   "source": [
    "models_dir = '/bigwork/nhwpnagm/hf_models/'\n",
    "model_id = 'Mistral-7B-Instruct-v0.3'\n",
    "\n",
    "model = AutoModelForCausalLM.from_pretrained(f'{models_dir}/{model_id}', device_map='auto')\n",
    "tokenizer = AutoTokenizer.from_pretrained(f'{models_dir}/{model_id}')"
   ]
  },
  {
   "cell_type": "code",
   "execution_count": 3,
   "id": "137bb50e-adec-4cb5-b694-14318f26aab9",
   "metadata": {
    "tags": []
   },
   "outputs": [],
   "source": [
    "device = model.device"
   ]
  },
  {
   "cell_type": "code",
   "execution_count": 4,
   "id": "89581073-823d-4fa6-b80f-c14b6bf89f90",
   "metadata": {
    "tags": []
   },
   "outputs": [],
   "source": [
    "with open('../data_analysis/popquorn/extracted_texts/texts_moderate_agreement.json') as f:\n",
    "    texts = json.load(f)"
   ]
  },
  {
   "cell_type": "markdown",
   "id": "87194071-7f31-4352-b09a-2c43fa08757c",
   "metadata": {},
   "source": [
    "**Instruction sets**"
   ]
  },
  {
   "cell_type": "code",
   "execution_count": 23,
   "id": "6bd24ff9-0633-4dc0-ba1b-12811b5f1456",
   "metadata": {
    "tags": []
   },
   "outputs": [],
   "source": [
    "instructions_v0 = {\n",
    "    'politeness': \"A text may be assigned a politeness score from 1 to 5. For each of the five politeness scores, 5 being most polite, provide an explanation for why it may apply to the following email from a colleague. Email: \",\n",
    "    'offensiveness': \"A text may be assigned an offensiveness score from 1 to 5. For each of the five offensiveness scores, 5 being most offensive, provide an explanation for why it may apply to the following Reddit comment. Comment: \",\n",
    "    'qa': \"A question may be assigned a difficulty score from 1 to 5. For each of the five difficulty scores, 5 being most difficult, provide an explanation for why it may apply to the following text passage and associated question. Passage: \"\n",
    "}\n",
    "\n",
    "instructions_v1 = {\n",
    "    'politeness': \"You will be given an email from a colleague. The politeness of the email may be scored from 1 to 5, 5 being most polite. For each of the five politeness scores provide an explanation for why it may apply. Email: \",\n",
    "    'offensiveness': \"You will be given a Reddit comment. The offensiveness of the comment may be scored from 1 to 5, 5 being most offensive. For each of the five offensiveness scores provide an explanation for why it may apply. Comment: \",\n",
    "    'qa': \"You will be given a text passage and an associated question. The difficulty of the question may be scored from 1 to 5, 5 being most difficult. For each of the five difficulty scores provide a brief explanation for why it may apply. Passage: \"\n",
    "}\n",
    "\n",
    "instructions_v2 = {\n",
    "    'politeness': \"You will be given an email from a colleague. Your task is to generate five explanations, each one describing why that email may be assigned a politeness rating of 1, 2, 3, 4, or 5 respectively, 5 being most polite. {addition} {sociodem} Email: \",\n",
    "    'offensiveness': \"You will be given a Reddit comment. Your task is to generate five explanations, each one describing why that comment may be assigned an offensiveness rating of 1, 2, 3, 4, or 5 respectively, 5 being most offensive. {addition} {sociodem} Comment: \",\n",
    "    'qa': \"You will be given a text passage and an associated question. Your task is to generate five explanations, each one describing why that question may be assigned a difficulty rating of 1, 2, 3, 4, or 5 respectively, 5 being most difficult. {addition} {sociodem} Passage: \"\n",
    "}\n",
    "\n",
    "additions = {\n",
    "    'ambiguity': \"The explanations should focus on clearing up ambiguities.\",\n",
    "    'ambiguity_long': \"The explanations should aim to disambiguate any vague or confusing content that might complicate the rating of the {task} to a human.\",\n",
    "    'ambiguity_long_v2': \"The explanations should aim to disambiguate any vague content that might complicate the rating of the {task}.\",\n",
    "    'difficulty': \"The explanations should focus on simplifying the contents so as to make the rating of the {task} easier to a human.\",\n",
    "    'difficulty_long': \"The explanations should focus on simplifying the contents so as to make the rating of the {task} easier to a human.\",\n",
    "}\n",
    "\n",
    "sociodemographics = {\n",
    "    'fwmc': \"Consider a person of gender 'Female', race 'White', age 'Middle adulthood' and education level 'College Degree' as the recipient of the explanations.\",\n",
    "    'fwmc_2': \"Explain it to a person of gender 'Female', race 'White', age 'Middle adulthood' and education level 'College Degree'.\"\n",
    "}"
   ]
  },
  {
   "cell_type": "markdown",
   "id": "8e322173-ebbb-451a-b167-234b2013cf6a",
   "metadata": {},
   "source": [
    "**Function definitions**"
   ]
  },
  {
   "cell_type": "code",
   "execution_count": 24,
   "id": "582fe6fb-fae8-4eef-ae3e-ad04a09eac23",
   "metadata": {
    "tags": []
   },
   "outputs": [],
   "source": [
    "profile = 'fwmc'"
   ]
  },
  {
   "cell_type": "code",
   "execution_count": 25,
   "id": "f191ce75-9106-431d-ade6-53a9a5a40e85",
   "metadata": {
    "tags": []
   },
   "outputs": [
    {
     "data": {
      "text/plain": [
       "'explanations/Mistral-7B-Instruct-v0.3/moderate_agreement_fwmc.json'"
      ]
     },
     "execution_count": 25,
     "metadata": {},
     "output_type": "execute_result"
    }
   ],
   "source": [
    "path_to_file = f'explanations/{model_id}/moderate_agreement_{profile}.json'\n",
    "path_to_file # where to store the explanations"
   ]
  },
  {
   "cell_type": "code",
   "execution_count": 26,
   "id": "5b40c4bd-2e54-47fb-9bd3-211e31458a2d",
   "metadata": {
    "tags": []
   },
   "outputs": [],
   "source": [
    "def inference(prompt:str):\n",
    "    message = [{'role': 'user', 'content': prompt}]\n",
    "    inputs = tokenizer.apply_chat_template(message, tokenize=True, add_generation_prompt=True, return_tensors='pt').to(device)#.to(device=torch.device('cuda'))\n",
    "    outputs = model.generate(inputs, max_new_tokens=1000)\n",
    "    decoded_output = tokenizer.decode(outputs[0], skip_special_tokens=True)\n",
    "    return decoded_output.replace(prompt, \"\").strip()\n",
    "\n",
    "\n",
    "def clean(text:str):\n",
    "    text_no_html = re.sub(r'<[^>]+>', '', text)\n",
    "    return re.sub(r'\\s+', ' ', text_no_html).strip()\n",
    "\n",
    "\n",
    "def run(instructions:dict = None, \n",
    "        instr_id:str = None, \n",
    "        addition:str = None,\n",
    "        sociodem:str = None,\n",
    "        tasks:list = ['offensiveness','qa','politeness']):\n",
    "    \n",
    "    outputs = {}\n",
    "    for task in tasks:\n",
    "        outputs[task] = {}\n",
    "        for inst_id, text in texts[task].items():\n",
    "            instr_key = instr_id if not addition else f'{instr_id}_{addition}'\n",
    "            outputs[task][inst_id] = {}\n",
    "            outputs[task][inst_id][instr_key] = {}\n",
    "            # clean the text (mainly for QA)\n",
    "            text_cleaned = clean(text)\n",
    "            # construct the prompt and call the model \n",
    "            add = additions[addition] if addition else ''\n",
    "            sd = sociodemographics[sociodem] if sociodem else ''\n",
    "            task_desc = task if task != 'qa' else 'difficulty'\n",
    "            add = add.format_map({'task':task_desc})\n",
    "            prompt = instructions[task].format_map({'addition':add, 'sociodem':sd}) + text_cleaned\n",
    "            print(prompt)\n",
    "            output = inference(prompt)\n",
    "            # save the used prompt and the model output\n",
    "            outputs[task][inst_id][instr_key]['prompt'] = prompt\n",
    "            outputs[task][inst_id][instr_key]['output'] = output\n",
    "    return outputs\n",
    "\n",
    "\n",
    "def merge_dicts(d1:dict, d2:dict):\n",
    "    merged = d1.copy()\n",
    "    for k, v in d2.items():\n",
    "        if k in merged:\n",
    "            if isinstance(merged[k], dict) and isinstance(v, dict):\n",
    "                merged[k] = merge_dicts(merged[k], v)\n",
    "            else:\n",
    "                merged[k] = v\n",
    "        else:\n",
    "            merged[k] = v\n",
    "    return merged\n",
    "\n",
    "\n",
    "def load(name:str):\n",
    "    with open(name, 'r') as f:\n",
    "        file = json.load(f) \n",
    "    return file\n",
    "\n",
    "\n",
    "def save(outputs:dict, merge:bool = True):\n",
    "    if merge:\n",
    "        file = load(path_to_file)\n",
    "        outputs = merge_dicts(outputs, file)\n",
    "    \n",
    "    with open(path_to_file, 'w') as f:\n",
    "        json.dump(outputs, f) \n",
    "        \n",
    "        \n",
    "def inspect_expl(task:str, inst_id:str, instr_id:str):\n",
    "    outputs = load(path_to_file)\n",
    "    \n",
    "    for instr_key in outputs[task][inst_id]:\n",
    "        if instr_id in instr_key:\n",
    "            print(outputs[task][inst_id][instr_key]['prompt'])\n",
    "            explanations = outputs[task][inst_id][instr_key]['output'].split('\\n\\n')\n",
    "            explanations = [e.split(':', 1)[1].strip() for e in explanations]\n",
    "            \n",
    "            with pd.option_context('display.max_colwidth', None): \n",
    "                display(pd.DataFrame(list(zip([1,2,3,4,5], explanations)), columns =[task, instr_key]))"
   ]
  },
  {
   "cell_type": "markdown",
   "id": "f7a44b06-11b8-4478-a710-ba61f37edecf",
   "metadata": {},
   "source": [
    "**Model inference**"
   ]
  },
  {
   "cell_type": "code",
   "execution_count": 29,
   "id": "e1928057-8298-4838-bbdf-49b5c0f49318",
   "metadata": {
    "collapsed": true,
    "jupyter": {
     "outputs_hidden": true
    },
    "tags": []
   },
   "outputs": [
    {
     "name": "stderr",
     "output_type": "stream",
     "text": [
      "The attention mask and the pad token id were not set. As a consequence, you may observe unexpected behavior. Please pass your input's `attention_mask` to obtain reliable results.\n",
      "Setting `pad_token_id` to `eos_token_id`:None for open-end generation.\n"
     ]
    },
    {
     "name": "stdout",
     "output_type": "stream",
     "text": [
      "You will be given a Reddit comment. Your task is to generate five explanations, each one describing why that comment may be assigned an offensiveness rating of 1, 2, 3, 4, or 5 respectively, 5 being most offensive.  Explain it to a person of gender 'Female', race 'White', age 'Middle adulthood' and education level 'College Degree'. Comment: Could this be because... prisons are full of actual rapists?\n"
     ]
    },
    {
     "name": "stderr",
     "output_type": "stream",
     "text": [
      "The attention mask and the pad token id were not set. As a consequence, you may observe unexpected behavior. Please pass your input's `attention_mask` to obtain reliable results.\n",
      "Setting `pad_token_id` to `eos_token_id`:None for open-end generation.\n"
     ]
    },
    {
     "name": "stdout",
     "output_type": "stream",
     "text": [
      "You will be given a Reddit comment. Your task is to generate five explanations, each one describing why that comment may be assigned an offensiveness rating of 1, 2, 3, 4, or 5 respectively, 5 being most offensive.  Explain it to a person of gender 'Female', race 'White', age 'Middle adulthood' and education level 'College Degree'. Comment: Yeah, Poppy is a war criminal who will never be punished. Doesn't mean all war criminals should escape punishment. That wouldn't make sense.\n"
     ]
    },
    {
     "name": "stderr",
     "output_type": "stream",
     "text": [
      "The attention mask and the pad token id were not set. As a consequence, you may observe unexpected behavior. Please pass your input's `attention_mask` to obtain reliable results.\n",
      "Setting `pad_token_id` to `eos_token_id`:None for open-end generation.\n"
     ]
    },
    {
     "name": "stdout",
     "output_type": "stream",
     "text": [
      "You will be given a Reddit comment. Your task is to generate five explanations, each one describing why that comment may be assigned an offensiveness rating of 1, 2, 3, 4, or 5 respectively, 5 being most offensive.  Explain it to a person of gender 'Female', race 'White', age 'Middle adulthood' and education level 'College Degree'. Comment: I love people using our religion to push their political agenda. If you want us to stay out of your business you better stay the hell away from ours.\n"
     ]
    },
    {
     "name": "stderr",
     "output_type": "stream",
     "text": [
      "The attention mask and the pad token id were not set. As a consequence, you may observe unexpected behavior. Please pass your input's `attention_mask` to obtain reliable results.\n",
      "Setting `pad_token_id` to `eos_token_id`:None for open-end generation.\n"
     ]
    },
    {
     "name": "stdout",
     "output_type": "stream",
     "text": [
      "You will be given a Reddit comment. Your task is to generate five explanations, each one describing why that comment may be assigned an offensiveness rating of 1, 2, 3, 4, or 5 respectively, 5 being most offensive.  Explain it to a person of gender 'Female', race 'White', age 'Middle adulthood' and education level 'College Degree'. Comment: So you do believe socialization plays a huge role in people's choices, and you do acknowledge that in the past women weren't socialized to be as career focused as men, so it seems to me like you'd understand how the explanations of why the wage gap exists are not justifications and that it stems from outdated gender roles conditioning that should be eradicated.\n"
     ]
    },
    {
     "name": "stderr",
     "output_type": "stream",
     "text": [
      "The attention mask and the pad token id were not set. As a consequence, you may observe unexpected behavior. Please pass your input's `attention_mask` to obtain reliable results.\n",
      "Setting `pad_token_id` to `eos_token_id`:None for open-end generation.\n"
     ]
    },
    {
     "name": "stdout",
     "output_type": "stream",
     "text": [
      "You will be given a Reddit comment. Your task is to generate five explanations, each one describing why that comment may be assigned an offensiveness rating of 1, 2, 3, 4, or 5 respectively, 5 being most offensive.  Explain it to a person of gender 'Female', race 'White', age 'Middle adulthood' and education level 'College Degree'. Comment: And the anthem protesters aren't breaking any laws. They are hurting certain peoples feelings. That's it.\n"
     ]
    },
    {
     "name": "stderr",
     "output_type": "stream",
     "text": [
      "The attention mask and the pad token id were not set. As a consequence, you may observe unexpected behavior. Please pass your input's `attention_mask` to obtain reliable results.\n",
      "Setting `pad_token_id` to `eos_token_id`:None for open-end generation.\n"
     ]
    },
    {
     "name": "stdout",
     "output_type": "stream",
     "text": [
      "You will be given a Reddit comment. Your task is to generate five explanations, each one describing why that comment may be assigned an offensiveness rating of 1, 2, 3, 4, or 5 respectively, 5 being most offensive.  Explain it to a person of gender 'Female', race 'White', age 'Middle adulthood' and education level 'College Degree'. Comment: I mean... you took credit for the economic goals he achieved which you yourself said were impossible to achieve. So why not...\n"
     ]
    },
    {
     "name": "stderr",
     "output_type": "stream",
     "text": [
      "The attention mask and the pad token id were not set. As a consequence, you may observe unexpected behavior. Please pass your input's `attention_mask` to obtain reliable results.\n",
      "Setting `pad_token_id` to `eos_token_id`:None for open-end generation.\n"
     ]
    },
    {
     "name": "stdout",
     "output_type": "stream",
     "text": [
      "You will be given a Reddit comment. Your task is to generate five explanations, each one describing why that comment may be assigned an offensiveness rating of 1, 2, 3, 4, or 5 respectively, 5 being most offensive.  Explain it to a person of gender 'Female', race 'White', age 'Middle adulthood' and education level 'College Degree'. Comment: Obviously, the best way to show how right you are is to prove it by lying instead of having having facts to show.\n"
     ]
    },
    {
     "name": "stderr",
     "output_type": "stream",
     "text": [
      "The attention mask and the pad token id were not set. As a consequence, you may observe unexpected behavior. Please pass your input's `attention_mask` to obtain reliable results.\n",
      "Setting `pad_token_id` to `eos_token_id`:None for open-end generation.\n"
     ]
    },
    {
     "name": "stdout",
     "output_type": "stream",
     "text": [
      "You will be given a Reddit comment. Your task is to generate five explanations, each one describing why that comment may be assigned an offensiveness rating of 1, 2, 3, 4, or 5 respectively, 5 being most offensive.  Explain it to a person of gender 'Female', race 'White', age 'Middle adulthood' and education level 'College Degree'. Comment: Fine with me. Done it. But I am one that can completely separate sex and intimacy. One ex who was a dom wanted to get a sex sub for us. A live-in one, eventually. We didn't get quite that far though.\n"
     ]
    },
    {
     "name": "stderr",
     "output_type": "stream",
     "text": [
      "The attention mask and the pad token id were not set. As a consequence, you may observe unexpected behavior. Please pass your input's `attention_mask` to obtain reliable results.\n",
      "Setting `pad_token_id` to `eos_token_id`:None for open-end generation.\n"
     ]
    },
    {
     "name": "stdout",
     "output_type": "stream",
     "text": [
      "You will be given a Reddit comment. Your task is to generate five explanations, each one describing why that comment may be assigned an offensiveness rating of 1, 2, 3, 4, or 5 respectively, 5 being most offensive.  Explain it to a person of gender 'Female', race 'White', age 'Middle adulthood' and education level 'College Degree'. Comment: Well uhhhh... yeah. Hell, even Republicans I've talked to that are totally in on Trump are at least *okay* with it.\n"
     ]
    },
    {
     "name": "stderr",
     "output_type": "stream",
     "text": [
      "The attention mask and the pad token id were not set. As a consequence, you may observe unexpected behavior. Please pass your input's `attention_mask` to obtain reliable results.\n",
      "Setting `pad_token_id` to `eos_token_id`:None for open-end generation.\n"
     ]
    },
    {
     "name": "stdout",
     "output_type": "stream",
     "text": [
      "You will be given a Reddit comment. Your task is to generate five explanations, each one describing why that comment may be assigned an offensiveness rating of 1, 2, 3, 4, or 5 respectively, 5 being most offensive.  Explain it to a person of gender 'Female', race 'White', age 'Middle adulthood' and education level 'College Degree'. Comment: Doesnt sound good to me, if you are happy then why ask others if it is ok?\n"
     ]
    }
   ],
   "source": [
    "outputs = run(instructions=instructions_v2, instr_id='v2_fwmc_2', addition=None, sociodem='fwmc_2', tasks=['offensiveness'])"
   ]
  },
  {
   "cell_type": "code",
   "execution_count": 30,
   "id": "4be540a0-9eaa-4994-b034-fb2b72cb8991",
   "metadata": {
    "tags": []
   },
   "outputs": [],
   "source": [
    "save(outputs, merge=True)"
   ]
  },
  {
   "cell_type": "markdown",
   "id": "2efea92d-7f07-411a-ba18-dd56c8950dd5",
   "metadata": {},
   "source": [
    "**Inspect the generated explanations**"
   ]
  },
  {
   "cell_type": "code",
   "execution_count": 48,
   "id": "48498bf0-a694-4089-88a1-6a2d6b68ffd5",
   "metadata": {
    "tags": []
   },
   "outputs": [
    {
     "name": "stdout",
     "output_type": "stream",
     "text": [
      "You will be given a Reddit comment. Your task is to generate five explanations, each one describing why that comment may be assigned an offensiveness rating of 1, 2, 3, 4, or 5 respectively, 5 being most offensive. The explanations should focus on simplifying the contents. Comment: We care more about keeping kids off welfare. Fuck the parents.\n"
     ]
    },
    {
     "data": {
      "text/html": [
       "<div>\n",
       "<style scoped>\n",
       "    .dataframe tbody tr th:only-of-type {\n",
       "        vertical-align: middle;\n",
       "    }\n",
       "\n",
       "    .dataframe tbody tr th {\n",
       "        vertical-align: top;\n",
       "    }\n",
       "\n",
       "    .dataframe thead th {\n",
       "        text-align: right;\n",
       "    }\n",
       "</style>\n",
       "<table border=\"1\" class=\"dataframe\">\n",
       "  <thead>\n",
       "    <tr style=\"text-align: right;\">\n",
       "      <th></th>\n",
       "      <th>offensiveness</th>\n",
       "      <th>v2_difficulty</th>\n",
       "    </tr>\n",
       "  </thead>\n",
       "  <tbody>\n",
       "    <tr>\n",
       "      <th>0</th>\n",
       "      <td>1</td>\n",
       "      <td>The comment expresses a strong opinion about prioritizing resources for children over parents on welfare. It does not contain any overtly offensive language or slurs.</td>\n",
       "    </tr>\n",
       "    <tr>\n",
       "      <th>1</th>\n",
       "      <td>2</td>\n",
       "      <td>The comment shows a lack of empathy towards parents on welfare and prioritizes the needs of children instead. The use of the word \"fuck\" may be seen as impolite or disrespectful, but it does not contain any hate speech or slurs.</td>\n",
       "    </tr>\n",
       "    <tr>\n",
       "      <th>2</th>\n",
       "      <td>3</td>\n",
       "      <td>The comment expresses a harsh attitude towards parents on welfare and prioritizes the needs of children over them. The use of the word \"fuck\" may be seen as a derogatory term towards the parents, implying a lack of concern for their situation.</td>\n",
       "    </tr>\n",
       "    <tr>\n",
       "      <th>3</th>\n",
       "      <td>4</td>\n",
       "      <td>The comment expresses a callous attitude towards parents on welfare and prioritizes the needs of children over them. The use of the word \"fuck\" may be seen as a vulgar and offensive term, implying a lack of respect and compassion towards the parents.</td>\n",
       "    </tr>\n",
       "    <tr>\n",
       "      <th>4</th>\n",
       "      <td>5</td>\n",
       "      <td>The comment expresses a deeply offensive attitude towards parents on welfare, using the word \"fuck\" as a derogatory term to dismiss their struggles. The comment prioritizes the needs of children over the parents, implying that they are not deserving of support or compassion. This attitude can be seen as hateful and disrespectful towards the parents and their situation.</td>\n",
       "    </tr>\n",
       "  </tbody>\n",
       "</table>\n",
       "</div>"
      ],
      "text/plain": [
       "   offensiveness  \\\n",
       "0              1   \n",
       "1              2   \n",
       "2              3   \n",
       "3              4   \n",
       "4              5   \n",
       "\n",
       "                                                                                                                                                                                                                                                                                                                                                                         v2_difficulty  \n",
       "0                                                                                                                                                                                                               The comment expresses a strong opinion about prioritizing resources for children over parents on welfare. It does not contain any overtly offensive language or slurs.  \n",
       "1                                                                                                                                                 The comment shows a lack of empathy towards parents on welfare and prioritizes the needs of children instead. The use of the word \"fuck\" may be seen as impolite or disrespectful, but it does not contain any hate speech or slurs.  \n",
       "2                                                                                                                                  The comment expresses a harsh attitude towards parents on welfare and prioritizes the needs of children over them. The use of the word \"fuck\" may be seen as a derogatory term towards the parents, implying a lack of concern for their situation.  \n",
       "3                                                                                                                           The comment expresses a callous attitude towards parents on welfare and prioritizes the needs of children over them. The use of the word \"fuck\" may be seen as a vulgar and offensive term, implying a lack of respect and compassion towards the parents.  \n",
       "4  The comment expresses a deeply offensive attitude towards parents on welfare, using the word \"fuck\" as a derogatory term to dismiss their struggles. The comment prioritizes the needs of children over the parents, implying that they are not deserving of support or compassion. This attitude can be seen as hateful and disrespectful towards the parents and their situation.  "
      ]
     },
     "metadata": {},
     "output_type": "display_data"
    },
    {
     "name": "stdout",
     "output_type": "stream",
     "text": [
      "You will be given a Reddit comment. Your task is to generate five explanations, each one describing why that comment may be assigned an offensiveness rating of 1, 2, 3, 4, or 5 respectively, 5 being most offensive. The explanations should focus on clearing up ambiguities. Comment: We care more about keeping kids off welfare. Fuck the parents.\n"
     ]
    },
    {
     "data": {
      "text/html": [
       "<div>\n",
       "<style scoped>\n",
       "    .dataframe tbody tr th:only-of-type {\n",
       "        vertical-align: middle;\n",
       "    }\n",
       "\n",
       "    .dataframe tbody tr th {\n",
       "        vertical-align: top;\n",
       "    }\n",
       "\n",
       "    .dataframe thead th {\n",
       "        text-align: right;\n",
       "    }\n",
       "</style>\n",
       "<table border=\"1\" class=\"dataframe\">\n",
       "  <thead>\n",
       "    <tr style=\"text-align: right;\">\n",
       "      <th></th>\n",
       "      <th>offensiveness</th>\n",
       "      <th>v2_ambiguity</th>\n",
       "    </tr>\n",
       "  </thead>\n",
       "  <tbody>\n",
       "    <tr>\n",
       "      <th>0</th>\n",
       "      <td>1</td>\n",
       "      <td>The comment may be rated as mildly offensive due to the use of strong language, \"Fuck the parents,\" but the overall context seems to be focused on a policy perspective, expressing concern for keeping kids off welfare. It could be interpreted as frustration with the system and not directly targeting parents as individuals.</td>\n",
       "    </tr>\n",
       "    <tr>\n",
       "      <th>1</th>\n",
       "      <td>2</td>\n",
       "      <td>The comment may be rated as moderately offensive due to the use of strong language and a dismissive attitude towards parents. However, it's important to note that the comment does not contain any derogatory or hateful language towards parents based on their race, gender, or other personal characteristics.</td>\n",
       "    </tr>\n",
       "    <tr>\n",
       "      <th>2</th>\n",
       "      <td>3</td>\n",
       "      <td>The comment may be rated as somewhat offensive due to the use of strong language and a dismissive attitude towards parents. The statement \"Fuck the parents\" could be interpreted as a lack of empathy or understanding for the challenges parents face, which could be perceived as insensitive.</td>\n",
       "    </tr>\n",
       "    <tr>\n",
       "      <th>3</th>\n",
       "      <td>4</td>\n",
       "      <td>The comment may be rated as more offensive due to the use of strong language and a dismissive attitude towards parents. The statement \"Fuck the parents\" could be perceived as blaming parents for their children being on welfare, ignoring the complex societal and economic factors that contribute to poverty and the need for welfare.</td>\n",
       "    </tr>\n",
       "    <tr>\n",
       "      <th>4</th>\n",
       "      <td>5</td>\n",
       "      <td>The comment may be rated as highly offensive due to the use of strong language and a dismissive attitude towards parents. The statement \"Fuck the parents\" could be perceived as blaming parents for their children being on welfare, ignoring the complex societal and economic factors that contribute to poverty and the need for welfare. Additionally, the use of the word \"fuck\" could be seen as a deliberate attempt to dehumanize and degrade parents, making the comment more hateful and harmful.</td>\n",
       "    </tr>\n",
       "  </tbody>\n",
       "</table>\n",
       "</div>"
      ],
      "text/plain": [
       "   offensiveness  \\\n",
       "0              1   \n",
       "1              2   \n",
       "2              3   \n",
       "3              4   \n",
       "4              5   \n",
       "\n",
       "                                                                                                                                                                                                                                                                                                                                                                                                                                                                                                   v2_ambiguity  \n",
       "0                                                                                                                                                                           The comment may be rated as mildly offensive due to the use of strong language, \"Fuck the parents,\" but the overall context seems to be focused on a policy perspective, expressing concern for keeping kids off welfare. It could be interpreted as frustration with the system and not directly targeting parents as individuals.  \n",
       "1                                                                                                                                                                                            The comment may be rated as moderately offensive due to the use of strong language and a dismissive attitude towards parents. However, it's important to note that the comment does not contain any derogatory or hateful language towards parents based on their race, gender, or other personal characteristics.  \n",
       "2                                                                                                                                                                                                             The comment may be rated as somewhat offensive due to the use of strong language and a dismissive attitude towards parents. The statement \"Fuck the parents\" could be interpreted as a lack of empathy or understanding for the challenges parents face, which could be perceived as insensitive.  \n",
       "3                                                                                                                                                                   The comment may be rated as more offensive due to the use of strong language and a dismissive attitude towards parents. The statement \"Fuck the parents\" could be perceived as blaming parents for their children being on welfare, ignoring the complex societal and economic factors that contribute to poverty and the need for welfare.  \n",
       "4  The comment may be rated as highly offensive due to the use of strong language and a dismissive attitude towards parents. The statement \"Fuck the parents\" could be perceived as blaming parents for their children being on welfare, ignoring the complex societal and economic factors that contribute to poverty and the need for welfare. Additionally, the use of the word \"fuck\" could be seen as a deliberate attempt to dehumanize and degrade parents, making the comment more hateful and harmful.  "
      ]
     },
     "metadata": {},
     "output_type": "display_data"
    },
    {
     "name": "stdout",
     "output_type": "stream",
     "text": [
      "You will be given a Reddit comment. Your task is to generate five explanations, each one describing why that comment may be assigned an offensiveness rating of 1, 2, 3, 4, or 5 respectively, 5 being most offensive. Comment: We care more about keeping kids off welfare. Fuck the parents.\n"
     ]
    },
    {
     "data": {
      "text/html": [
       "<div>\n",
       "<style scoped>\n",
       "    .dataframe tbody tr th:only-of-type {\n",
       "        vertical-align: middle;\n",
       "    }\n",
       "\n",
       "    .dataframe tbody tr th {\n",
       "        vertical-align: top;\n",
       "    }\n",
       "\n",
       "    .dataframe thead th {\n",
       "        text-align: right;\n",
       "    }\n",
       "</style>\n",
       "<table border=\"1\" class=\"dataframe\">\n",
       "  <thead>\n",
       "    <tr style=\"text-align: right;\">\n",
       "      <th></th>\n",
       "      <th>offensiveness</th>\n",
       "      <th>v2</th>\n",
       "    </tr>\n",
       "  </thead>\n",
       "  <tbody>\n",
       "    <tr>\n",
       "      <th>0</th>\n",
       "      <td>1</td>\n",
       "      <td>This comment expresses a strong opinion about prioritizing resources for children over parents who rely on welfare. While it may come across as blunt or insensitive, it does not contain any overtly offensive language or slurs.</td>\n",
       "    </tr>\n",
       "    <tr>\n",
       "      <th>1</th>\n",
       "      <td>2</td>\n",
       "      <td>The comment's tone is dismissive and demeaning towards parents on welfare, which could be perceived as offensive by some. However, it does not directly target or attack individuals, and the language used is not particularly harsh.</td>\n",
       "    </tr>\n",
       "    <tr>\n",
       "      <th>2</th>\n",
       "      <td>3</td>\n",
       "      <td>The comment's focus on \"fucking the parents\" could be seen as offensive and disrespectful, especially towards those who are struggling and in need of assistance. The use of the word \"fuck\" adds a level of hostility and contempt.</td>\n",
       "    </tr>\n",
       "    <tr>\n",
       "      <th>3</th>\n",
       "      <td>4</td>\n",
       "      <td>The comment's language and tone are more aggressive and derogatory, with the use of the word \"fuck\" and the dismissive attitude towards parents on welfare. This could be perceived as offensive and hurtful to those who are affected by the comment.</td>\n",
       "    </tr>\n",
       "    <tr>\n",
       "      <th>4</th>\n",
       "      <td>5</td>\n",
       "      <td>The comment's use of the word \"fuck\" and its derogatory attitude towards parents on welfare could be seen as highly offensive and disrespectful. The comment does not offer any constructive solutions or empathy towards those in need, and its language is intended to belittle and demean.</td>\n",
       "    </tr>\n",
       "  </tbody>\n",
       "</table>\n",
       "</div>"
      ],
      "text/plain": [
       "   offensiveness  \\\n",
       "0              1   \n",
       "1              2   \n",
       "2              3   \n",
       "3              4   \n",
       "4              5   \n",
       "\n",
       "                                                                                                                                                                                                                                                                                              v2  \n",
       "0                                                             This comment expresses a strong opinion about prioritizing resources for children over parents who rely on welfare. While it may come across as blunt or insensitive, it does not contain any overtly offensive language or slurs.  \n",
       "1                                                         The comment's tone is dismissive and demeaning towards parents on welfare, which could be perceived as offensive by some. However, it does not directly target or attack individuals, and the language used is not particularly harsh.  \n",
       "2                                                           The comment's focus on \"fucking the parents\" could be seen as offensive and disrespectful, especially towards those who are struggling and in need of assistance. The use of the word \"fuck\" adds a level of hostility and contempt.  \n",
       "3                                         The comment's language and tone are more aggressive and derogatory, with the use of the word \"fuck\" and the dismissive attitude towards parents on welfare. This could be perceived as offensive and hurtful to those who are affected by the comment.  \n",
       "4  The comment's use of the word \"fuck\" and its derogatory attitude towards parents on welfare could be seen as highly offensive and disrespectful. The comment does not offer any constructive solutions or empathy towards those in need, and its language is intended to belittle and demean.  "
      ]
     },
     "metadata": {},
     "output_type": "display_data"
    }
   ],
   "source": [
    "inspect_expl(task='offensiveness', inst_id='367', instr_id='v2')"
   ]
  },
  {
   "cell_type": "markdown",
   "id": "258b996d-4ac6-4571-9b17-bdf17c36881d",
   "metadata": {},
   "source": [
    "**Notes**"
   ]
  },
  {
   "cell_type": "markdown",
   "id": "6582afe9-d0e7-4ad6-86a9-35f70e2cbc28",
   "metadata": {},
   "source": [
    "Reasoning for **1**:\n",
    "* *v2_difficulty*: 'the comment does not contain any overtly offensive language or slurs.'\n",
    "* *v2_ambiguity*: 'the overall context seems to be focused on a policy perspective, expressing concern for keeping kids off welfare. It could be interpreted as frustration with the system and not directly targeting parents as individuals.'\n",
    "* *v2*: 'the comment does not contain any overtly offensive language or slurs.'\n",
    "\n",
    "Reasoning for **2**:\n",
    "* *v2_difficulty*: 'lack of empathy towards parents on welfare', 'use of the word \"fuck\" may be seen as impolite or disrespectful', 'does not contain any hate speech or slurs'\n",
    "* *v2_ambiguity*: 'use of strong language', 'dismissive attitude towards parents', 'does not contain any derogatory or hateful language towards parents based on their race, gender, or other personal characteristics'\n",
    "* *v2*: 'dismissive and demeaning towards parents on welfare', 'does not directly target or attack individuals', 'the language used is not particularly harsh'\n",
    "\n",
    "Reasoning for **3**\n",
    "* *v2_difficulty*: 'harsh attitude towards parents on welfare', 'use of the word \"fuck\" may be seen as a derogatory term towards the parents, implying a lack of concern for their situation'\n",
    "* *v2_ambiguity*: 'use of strong language', 'dismissive attitude towards parents', 'lack of empathy or understanding for the challenges parents face'\n",
    "* *v2*: 'could be seen as offensive and disrespectful, especially towards those who are struggling and in need of assistance', 'use of the word \"fuck\" adds a level of hostility and contempt'\n",
    "\n",
    "Reasoning for **4**\n",
    "* *v2_difficulty*: 'callous attitude towards parents on welfare', 'use of the word \"fuck\" may be seen as a vulgar and offensive term, implying a lack of respect and compassion towards the parents'\n",
    "* *v2_ambiguity*: 'use of strong language', 'dismissive attitude towards parents', 'statement \"Fuck the parents\" could be perceived as blaming parents for their children being on welfare, ignoring the complex societal and economic factors that contribute to poverty and the need for welfare'\n",
    "* *v2*: 'language and tone are more aggressive and derogatory', ' use of the word \"fuck\"', the dismissive attitude towards parents on welfare'\n",
    "\n",
    "Reasoning for **5**:\n",
    "* *v2_difficulty*: 'deeply offensive attitude towards parents on welfare', 'using the word \"fuck\" as a derogatory term to dismiss their struggles', 'implying that they [the parents] are not deserving of support or compassion', 'attitude can be seen as hateful and disrespectful towards the parents and their situation'\n",
    "* *v2_ambiguity*: 'use of strong language', 'dismissive attitude towards parents', 'statement \"Fuck the parents\" could be perceived as blaming parents for their children being on welfare, ignoring the complex societal and economic factors that contribute to poverty and the need for welfare', 'use of the word \"fuck\" could be seen as a deliberate attempt to dehumanize and degrade parents'\n",
    "* *v2*: 'use of the word \"fuck\" and its derogatory attitude towards parents on welfare', 'comment does not offer any constructive solutions or empathy towards those in need', 'its language is intended to belittle and demean'"
   ]
  },
  {
   "cell_type": "code",
   "execution_count": null,
   "id": "27041df2-6107-4efd-bdb5-2e5422c5f631",
   "metadata": {},
   "outputs": [],
   "source": []
  }
 ],
 "metadata": {
  "kernelspec": {
   "display_name": "env3",
   "language": "python",
   "name": "env3"
  },
  "language_info": {
   "codemirror_mode": {
    "name": "ipython",
    "version": 3
   },
   "file_extension": ".py",
   "mimetype": "text/x-python",
   "name": "python",
   "nbconvert_exporter": "python",
   "pygments_lexer": "ipython3",
   "version": "3.10.15"
  }
 },
 "nbformat": 4,
 "nbformat_minor": 5
}
