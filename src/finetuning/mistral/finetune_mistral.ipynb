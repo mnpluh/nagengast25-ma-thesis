{
 "cells": [
  {
   "cell_type": "code",
   "execution_count": 12,
   "id": "c2f76b13-5920-4e25-922b-e59ee5272cd1",
   "metadata": {
    "tags": []
   },
   "outputs": [],
   "source": [
    "import pandas as pd\n",
    "import json"
   ]
  },
  {
   "cell_type": "code",
   "execution_count": 5,
   "id": "9b94a0e5-e90a-433c-b4a7-35db7203d0ee",
   "metadata": {
    "tags": []
   },
   "outputs": [
    {
     "data": {
      "text/html": [
       "<div>\n",
       "<style scoped>\n",
       "    .dataframe tbody tr th:only-of-type {\n",
       "        vertical-align: middle;\n",
       "    }\n",
       "\n",
       "    .dataframe tbody tr th {\n",
       "        vertical-align: top;\n",
       "    }\n",
       "\n",
       "    .dataframe thead th {\n",
       "        text-align: right;\n",
       "    }\n",
       "</style>\n",
       "<table border=\"1\" class=\"dataframe\">\n",
       "  <thead>\n",
       "    <tr style=\"text-align: right;\">\n",
       "      <th></th>\n",
       "      <th>instance_id</th>\n",
       "      <th>text</th>\n",
       "      <th>offensiveness</th>\n",
       "    </tr>\n",
       "  </thead>\n",
       "  <tbody>\n",
       "    <tr>\n",
       "      <th>0</th>\n",
       "      <td>0</td>\n",
       "      <td>That’s a pretty slippery slope you’ve got ther...</td>\n",
       "      <td>0</td>\n",
       "    </tr>\n",
       "    <tr>\n",
       "      <th>1</th>\n",
       "      <td>1</td>\n",
       "      <td>I don't know. Sitting here now answering this ...</td>\n",
       "      <td>0</td>\n",
       "    </tr>\n",
       "    <tr>\n",
       "      <th>2</th>\n",
       "      <td>2</td>\n",
       "      <td>Pretty much the same as when straight people p...</td>\n",
       "      <td>3</td>\n",
       "    </tr>\n",
       "    <tr>\n",
       "      <th>3</th>\n",
       "      <td>3</td>\n",
       "      <td>If you dont see it in your post, youre probabl...</td>\n",
       "      <td>3</td>\n",
       "    </tr>\n",
       "    <tr>\n",
       "      <th>4</th>\n",
       "      <td>4</td>\n",
       "      <td>You believe most priests are gay?</td>\n",
       "      <td>0</td>\n",
       "    </tr>\n",
       "    <tr>\n",
       "      <th>...</th>\n",
       "      <td>...</td>\n",
       "      <td>...</td>\n",
       "      <td>...</td>\n",
       "    </tr>\n",
       "    <tr>\n",
       "      <th>1180</th>\n",
       "      <td>1494</td>\n",
       "      <td>This behaviour is misleading and deceptive in ...</td>\n",
       "      <td>4</td>\n",
       "    </tr>\n",
       "    <tr>\n",
       "      <th>1181</th>\n",
       "      <td>1495</td>\n",
       "      <td>Offer myself as their slave and informant.</td>\n",
       "      <td>0</td>\n",
       "    </tr>\n",
       "    <tr>\n",
       "      <th>1182</th>\n",
       "      <td>1496</td>\n",
       "      <td>hey, they don't call it the devil's lettuce fo...</td>\n",
       "      <td>1</td>\n",
       "    </tr>\n",
       "    <tr>\n",
       "      <th>1183</th>\n",
       "      <td>1497</td>\n",
       "      <td>If you want to take away my rights because of ...</td>\n",
       "      <td>0</td>\n",
       "    </tr>\n",
       "    <tr>\n",
       "      <th>1184</th>\n",
       "      <td>1498</td>\n",
       "      <td>People Kill People. One Man Killed 17 People. ...</td>\n",
       "      <td>0</td>\n",
       "    </tr>\n",
       "  </tbody>\n",
       "</table>\n",
       "<p>1185 rows × 3 columns</p>\n",
       "</div>"
      ],
      "text/plain": [
       "      instance_id                                               text  \\\n",
       "0               0  That’s a pretty slippery slope you’ve got ther...   \n",
       "1               1  I don't know. Sitting here now answering this ...   \n",
       "2               2  Pretty much the same as when straight people p...   \n",
       "3               3  If you dont see it in your post, youre probabl...   \n",
       "4               4                  You believe most priests are gay?   \n",
       "...           ...                                                ...   \n",
       "1180         1494  This behaviour is misleading and deceptive in ...   \n",
       "1181         1495         Offer myself as their slave and informant.   \n",
       "1182         1496  hey, they don't call it the devil's lettuce fo...   \n",
       "1183         1497  If you want to take away my rights because of ...   \n",
       "1184         1498  People Kill People. One Man Killed 17 People. ...   \n",
       "\n",
       "      offensiveness  \n",
       "0                 0  \n",
       "1                 0  \n",
       "2                 3  \n",
       "3                 3  \n",
       "4                 0  \n",
       "...             ...  \n",
       "1180              4  \n",
       "1181              0  \n",
       "1182              1  \n",
       "1183              0  \n",
       "1184              0  \n",
       "\n",
       "[1185 rows x 3 columns]"
      ]
     },
     "execution_count": 5,
     "metadata": {},
     "output_type": "execute_result"
    }
   ],
   "source": [
    "df_data_profiled = pd.read_csv('profiled_data_sample.csv')\n",
    "df_data_profiled"
   ]
  },
  {
   "cell_type": "code",
   "execution_count": 6,
   "id": "bd8e084d-ec51-4287-a63b-dbb9ee1638ba",
   "metadata": {
    "tags": []
   },
   "outputs": [],
   "source": [
    "id2label = {\n",
    "    0: 'not offensive',\n",
    "    1: 'slightly offensive',\n",
    "    2: 'moderately offensive',\n",
    "    3: 'very offensive',\n",
    "    4: 'extremely offensive'\n",
    "}"
   ]
  },
  {
   "cell_type": "markdown",
   "id": "274d31c3-26d8-40bb-b31a-3b0bc6290d84",
   "metadata": {},
   "source": [
    "**Store in required data format (JSONL)**"
   ]
  },
  {
   "cell_type": "markdown",
   "id": "a068d620-2c8e-4849-8f1f-8a483e549f77",
   "metadata": {},
   "source": [
    "The **profile**: White, Woman, Middle Adulthood, College Degree \\\n",
    "The **task**: Rating the offensiveness of a Reddit comment (or simply \"a text\")"
   ]
  },
  {
   "cell_type": "markdown",
   "id": "010248c6-88e1-434e-951c-0260684bc4ca",
   "metadata": {},
   "source": [
    "*Perform sociodemographic prompting*"
   ]
  },
  {
   "cell_type": "code",
   "execution_count": 14,
   "id": "a6db8cac-06b5-406d-8eab-057dd4cfeee3",
   "metadata": {
    "tags": []
   },
   "outputs": [],
   "source": [
    "# system_message = \"You are a white woman in middle adulthood who has a college degree.\"\n",
    "system_message = \"Given a text, how would a person of gender 'Female', race 'White', age 'Middle adulthood' and education level 'College Degree' rate the degree of offensiveness in the text. Possible values are 'not offensive', 'slightly offensive', 'moderately offensive', 'very offensive' or 'extremely offensive'.\"\n",
    "#user_instruction = \"You will be given a Reddit comment. Tell me how offensive it is to you. Not offensive, slightly offensive, moderately offensive, very offensive or extremely offensive?\""
   ]
  },
  {
   "cell_type": "markdown",
   "id": "274ed34d-66fa-42e7-80a8-57ea45d6e34b",
   "metadata": {},
   "source": [
    "*Write data into JSONL file*\n",
    "\n",
    "*(Each instance is in its own line)*"
   ]
  },
  {
   "cell_type": "code",
   "execution_count": 23,
   "id": "a2e954df-970a-4f3c-aa2c-a6bbf4f3127d",
   "metadata": {
    "tags": []
   },
   "outputs": [
    {
     "name": "stdout",
     "output_type": "stream",
     "text": [
      "JSONL file created: output.jsonl\n"
     ]
    }
   ],
   "source": [
    "with open(\"data/data_full.jsonl\", \"w\", encoding=\"utf-8\") as f:\n",
    "    for _, row in df_data_profiled.iterrows():\n",
    "        message_instance = {\n",
    "            \"messages\": [\n",
    "                {\"role\": \"system\", \"content\": system_message},\n",
    "                {\"role\": \"user\", \"content\": row[\"text\"]},\n",
    "                {\"role\": \"assistant\", \"content\": id2label[row[\"offensiveness\"]]}\n",
    "            ]\n",
    "        }\n",
    "        # Write each instance as a separate JSON line\n",
    "        f.write(json.dumps(message_instance) + \"\\n\")"
   ]
  },
  {
   "cell_type": "code",
   "execution_count": null,
   "id": "485caab3-fc6c-43f1-be28-167008436ed8",
   "metadata": {},
   "outputs": [],
   "source": []
  }
 ],
 "metadata": {
  "kernelspec": {
   "display_name": "mistral-finetune",
   "language": "python",
   "name": "mistral-finetune"
  },
  "language_info": {
   "codemirror_mode": {
    "name": "ipython",
    "version": 3
   },
   "file_extension": ".py",
   "mimetype": "text/x-python",
   "name": "python",
   "nbconvert_exporter": "python",
   "pygments_lexer": "ipython3",
   "version": "3.11.11"
  }
 },
 "nbformat": 4,
 "nbformat_minor": 5
}
